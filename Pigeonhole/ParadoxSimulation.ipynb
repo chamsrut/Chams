{
 "cells": [
  {
   "cell_type": "code",
   "execution_count": 1,
   "metadata": {
    "collapsed": true
   },
   "outputs": [],
   "source": [
    "%matplotlib inline\n",
    "import matplotlib as mpl\n",
    "import matplotlib.pyplot as plt\n",
    "from qutip import *\n",
    "from matplotlib import gridspec\n",
    "import h5py\n",
    "import math\n",
    "import numpy as np\n",
    "import matplotlib.ticker as plticker\n",
    "import sys\n",
    "import os\n",
    "import qutip as q\n",
    "from pylab import *\n",
    "import gc\n",
    "import pprint\n",
    "\n",
    "folder = os.getcwd()\n",
    "sys.path.insert(0,os.path.join(folder,'functions'))\n",
    "mpl.rcParams['mathtext.fontset'] = 'custom'\n",
    "mpl.rcParams['mathtext.rm'] = 'Bitstream Vera Sans'\n",
    "mpl.rcParams['mathtext.it'] = 'Bitstream Vera Sans:italic'\n",
    "mpl.rcParams['mathtext.bf'] = 'Bitstream Vera Sans:bold'\n",
    "mpl.rcParams['mathtext.fontset'] = 'stix'\n",
    "mpl.rcParams['font.family'] = 'STIXGeneral'\n",
    "\n",
    "mpl.rcParams['figure.figsize'] = (6.0, 4.0)  \n",
    "mpl.rcParams['font.size'] = 14  \n",
    "mpl.rcParams['axes.labelsize'] = 18\n",
    "mpl.rcParams['savefig.dpi'] = 100 \n",
    "mpl.rcParams['figure.subplot.bottom'] = .1  "
   ]
  },
  {
   "cell_type": "markdown",
   "metadata": {},
   "source": [
    "# Auxiliary functions\n",
    "+ Plot of the Wigner function\n",
    "+ Parametrize the qubit on the Bloch sphere"
   ]
  },
  {
   "cell_type": "code",
   "execution_count": 2,
   "metadata": {},
   "outputs": [],
   "source": [
    "\n",
    "xvec = np.linspace(-10, 10, 100)\n",
    "#outputs the wigner function of a given state\n",
    "def plot_wig(rho, fig, xvec=xvec):\n",
    "    '''Plots the Wigner distribution\n",
    "       Input: rho= density matrix of the state (Qutip Qobj)\n",
    "              fig= label for the output figure \n",
    "              xvec= mesh of the plot given by a numpy array (set by default from [-7, 7]) \n",
    "       Output: Plot of the Wigner distribution with insets representing the marginal proability distributions of the X and P variables of the pointer state       \n",
    "    '''\n",
    "    plt.figure(fig);\n",
    "    plt.clf()\n",
    "    gs = gridspec.GridSpec(2, 2, width_ratios=[1., .25], height_ratios=[.25, 1.])\n",
    "    gs.update(right=.98)\n",
    "    ax = plt.subplot(gs[2])\n",
    "    axv = plt.subplot(gs[3], sharey=ax)\n",
    "    axh = plt.subplot(gs[0], sharex=ax)\n",
    "    plt.subplots_adjust(hspace=.02, wspace=.02)\n",
    "    plt.setp(axh.get_xticklabels(), visible=False)\n",
    "    plt.setp(axv.get_yticklabels(), visible=False)\n",
    "    Wig = q.wigner(rho, xvec, xvec, g=2)\n",
    "    Wig = Wig / (np.sum(Wig) * (-xvec[0] + xvec[1]))\n",
    "    scale = np.max(np.abs(Wig));\n",
    "    ax.contourf(xvec, xvec, Wig, levels=np.linspace(-scale, scale, 501),cmap='RdBu_r',vmax=1 * scale, vmin=-1 * scale)\n",
    "    ax.grid(False)\n",
    "    axh.grid(False)\n",
    "    axv.grid(False)\n",
    "    axh.plot(xvec, np.sum(Wig, axis=0), 'r', zorder=+10, label='Sim.')\n",
    "    axv.plot(np.sum(Wig, axis=1), xvec, 'r', zorder=+10)\n",
    "    axh.set_xlim(xvec.min(), xvec.max())\n",
    "    axv.set_ylim(xvec.min(), xvec.max())\n",
    "    ax.set_aspect('equal')\n",
    "    ax.set_xlabel(r'$q$')\n",
    "    ax.set_ylabel(r'$p$')\n",
    "    axh.set_ylabel(r'P$(q)$')\n",
    "    axv.set_xlabel(r'P$(p)$')\n",
    "   \n",
    "\n",
    " #define the state\n",
    "def state(t,p,l,r):\n",
    "    ''' Define the pre- or post-selected state in the case of three qubits (three particles and two boxes)\n",
    "        Inputs:t=polar angle\n",
    "               p=azimuthal angle\n",
    "               l= 0 in computational basis (Qutip Qobj)\n",
    "               r= 1 in coputational basis (Qutip Qobj)\n",
    "        Output:tensor product of three qubits (Qutip Qobj)\n",
    "    '''\n",
    "    s=tensor(np.cos(t/2)*l+np.exp(1.j*p)*np.sin(t/2)*r,np.cos(t/2)*l+np.exp(1.j*p)*np.sin(t/2)*r,np.cos(t/2)*l+np.exp(1.j*p)*np.sin(t/2)*r,np.cos(t/2)*l+np.exp(1.j*p)*np.sin(t/2)*r,np.cos(t/2)*l+np.exp(1.j*p)*np.sin(t/2)*r)\n",
    "    return s"
   ]
  },
  {
   "cell_type": "markdown",
   "metadata": {},
   "source": [
    "# Main function for the pigeonhole simulation\n",
    "+ Plots the Wigner distribution given the given the pre- and post-selected states"
   ]
  },
  {
   "cell_type": "code",
   "execution_count": 3,
   "metadata": {},
   "outputs": [],
   "source": [
    "def Pigeon(N,ti,tf,pin,pif,sqzparam,pointer,coupl,sdf_t1): \n",
    "    '''Function plotting the Wigner distribution given the pre- and post-selected states\n",
    "       Inputs: N=Dimension of the Hilbert space \n",
    "               ti=polar angle of the pre-selected state\n",
    "               tf=polar angle of the post-selected state\n",
    "               pin=azimuthal angle of the pre-selected state\n",
    "               pif=azimuthal angle of the post-selected state\n",
    "               sqzparam=squeezing parameter expressed in dB\n",
    "               pointer=choice between coherent \"c\" and squeezed \"s\" states\n",
    "               coupl=coupling constant of the Hamiltonian\n",
    "               sdf_t1=gate time\n",
    "       Output: Prints on the screen: -hilbert-schmidt inner product\n",
    "                                    -the expectation value of the position and momentum operator after the post-selection\n",
    "                                    -weak value of the observable we are measuring\n",
    "               Plots the Wigner distribution of the pointer after the post-selection\n",
    "    '''\n",
    "    #basis vectors\n",
    "    l = basis(2,1)\n",
    "    r = basis(2,0)\n",
    "    #pre-selected state\n",
    "    pre=state(ti,pin,l,r)\n",
    "    #post-selected state\n",
    "    post=state(tf,pif,l,r)\n",
    "\n",
    "    #create the possibility of a sqeezed quantum pointer\n",
    "    #sqeezed state\n",
    "    sq_op =q.squeeze(N, sqzparam)\n",
    "    sq_state=q.squeeze(N, sqzparam)*coherent(N, 0)\n",
    "\n",
    "    #add the quantum pointer\n",
    "    if pointer == 's':\n",
    "        #squeezed pointer\n",
    "        rho0=(tensor(pre,sq_state)*tensor(pre,sq_state).dag()).unit()\n",
    "    elif pointer == 'c':\n",
    "        #coherent pointer\n",
    "        rho0=(tensor(pre,coherent(N, 0))*tensor(pre,coherent(N, 0)).dag()).unit()\n",
    "    else: raise TypeError('Your pointer type is not correct. Please input \"c\" for coherent or \"s\" for squeezed')\n",
    "\n",
    "    #spin dependent hamiltonian\n",
    "    ll=tensor(l,l)\n",
    "    llt=ll*ll.dag()\n",
    "    rr=tensor(r,r)\n",
    "    rrt=rr*rr.dag()\n",
    "    idd=qeye(2)\n",
    "    #+/- basis measurement\n",
    "    pl=tensor((l+r)/np.sqrt(2),(l+r)/np.sqrt(2),(l+r)/np.sqrt(2))\n",
    "    mi=tensor((l-r)/np.sqrt(2),(l-r)/np.sqrt(2),(l-r)/np.sqrt(2))\n",
    "    pp=pl*pl.dag()\n",
    "    mm=mi*mi.dag()\n",
    "    oper=tensor(sigmax(),idd,idd,idd,idd)+tensor(idd,sigmax(),idd,idd,idd)+tensor(idd,idd,sigmax(),idd,idd)+tensor(idd,idd,idd,sigmax(),idd)+tensor(idd,idd,idd,idd,sigmax())\n",
    "    spindep=tensor(oper,momentum(N))\n",
    "    #weak measurement protocol\n",
    "    #a=((tensor(idd,idd,idd,idd,qeye(N))-1.j*coupl*sdf_t1*spindep)*rho0*((tensor(idd,idd,idd,idd,qeye(N))-1.j*coupl*sdf_t1*spindep).dag())).unit()\n",
    "    a1=((-1.j*coupl*sdf_t1*spindep).expm()*rho0*(-1.j*coupl*sdf_t1*spindep).expm().dag()).unit()\n",
    "    #dist=(a.dag()*a1).tr()\n",
    "    #show the trace distance (hilbert-schmidt inner product) of the approximated time propagator and the full time propagator\n",
    "    #print(\"The trace distance between the Unitary time propagator and its expansion to the first order is:\",dist)\n",
    "\n",
    "    #final projection and wigner function of the pointer\n",
    "    d=post*post.dag()\n",
    "    dd=tensor(d,qeye(N))\n",
    "    b=(((dd.dag()*a1)).ptrace(5)).unit()\n",
    "    plot_wig(b, fig='test')\n",
    "    plt.show()\n",
    "\n",
    "    #variance of the momentum at the initial time\n",
    "    if pointer == 's':\n",
    "        b0=(sq_state*sq_state.dag()).unit()\n",
    "    elif pointer == 'c':\n",
    "        b0=(coherent(N, 0)*coherent(N, 0).dag()).unit()\n",
    "    \n",
    "    k1=(b0*momentum(N)).tr()\n",
    "    k2=(b0*momentum(N)*momentum(N)).tr()\n",
    "    vark=k2-k1*k1\n",
    "    #prints the expectation value of the position and momentum operator + weak value of the observable we are measuring\n",
    "    k=(b*momentum(N)).tr()\n",
    "    print(\"The expectation value of the momentum operator is:\",k)\n",
    "    print(\"Im part of the weak value:\",k/(2*coupl*sdf_t1*vark))\n",
    "    p=(b*position(N)).tr()\n",
    "    print(\"The expectation value of the position operator is:\",p)\n",
    "    print(\"Re part of the weak value:\",p/(coupl*sdf_t1))\n",
    "    \n",
    "    \n",
    "    saveTo = os.path.join(folder,'presentation')\n",
    "    savefig(saveTo,dpi=500, bbox_inches='tight')\n",
    "\n"
   ]
  },
  {
   "cell_type": "markdown",
   "metadata": {},
   "source": [
    "# Input the simulation parameters and run "
   ]
  },
  {
   "cell_type": "code",
   "execution_count": 5,
   "metadata": {
    "scrolled": false
   },
   "outputs": [
    {
     "data": {
      "image/png": "[encoded data removed]",
      "text/plain": [
       "<matplotlib.figure.Figure at 0xba4af98>"
      ]
     },
     "metadata": {},
     "output_type": "display_data"
    },
    {
     "name": "stdout",
     "output_type": "stream",
     "text": [
      "The expectation value of the momentum operator is: (-2.3786273813048656e-05+0j)\n",
      "Im part of the weak value: (-1.965922308317536e-06+0j)\n",
      "The expectation value of the position operator is: 8.222208959643429e-06j\n",
      "Re part of the weak value: 4.1111044798217145e-06j\n"
     ]
    },
    {
     "data": {
      "text/plain": [
       "<matplotlib.figure.Figure at 0xbb18e48>"
      ]
     },
     "metadata": {},
     "output_type": "display_data"
    }
   ],
   "source": [
    "#dimension of the Hilbert space\n",
    "N=100\n",
    "\n",
    "#here i select the initial and the final angles on the bloch sphere\n",
    "ti=np.pi/2\n",
    "pin=np.pi/(2)\n",
    "tf=0\n",
    "pif=0\n",
    "\n",
    "#squeezing parameter choosen to be real and expressed in dB \n",
    "sqzparam=0.9\n",
    "\n",
    "#quantum pointer\n",
    "pointer= 's' # 's' for squeezed and 'c' for coherent\n",
    "\n",
    "#Hamiltonian parameters\n",
    "coupl=2\n",
    "sdf_t1=1\n",
    "\n",
    "Pigeon(N,ti,tf,pin,pif,sqzparam,pointer,coupl,sdf_t1)"
   ]
  },
  {
   "cell_type": "code",
   "execution_count": 38,
   "metadata": {},
   "outputs": [
    {
     "name": "stdout",
     "output_type": "stream",
     "text": [
      "Quantum object: dims = [[2], [1]], shape = (2, 1), type = ket\n",
      "Qobj data =\n",
      "[[ 0.+1.j]\n",
      " [ 0.+0.j]] Quantum object: dims = [[2], [1]], shape = (2, 1), type = ket\n",
      "Qobj data =\n",
      "[[ 0.00000000+0.70710678j]\n",
      " [ 0.70710678+0.j        ]] Quantum object: dims = [[2], [1]], shape = (2, 1), type = ket\n",
      "Qobj data =\n",
      "[[ 1.]\n",
      " [ 0.]]\n"
     ]
    }
   ],
   "source": [
    "l = basis(2,1)\n",
    "r = basis(2,0)\n",
    "coupl=2\n",
    "sdf_t1=1\n",
    "tin=np.pi/2\n",
    "pin=np.pi/2\n",
    "tout=0\n",
    "pout=0\n",
    "inp=(np.cos(tin/2)*l+np.exp(1.j*pin)*np.sin(tin/2)*r)\n",
    "outp=(np.cos(tout/2)*l+np.exp(1.j*pout)*np.sin(tout/2)*r)\n",
    "oper1=sigmax()\n",
    "s=((1.j*np.pi*0.25*oper1).expm()*inp)\n",
    "print(s,inp,r)"
   ]
  },
  {
   "cell_type": "code",
   "execution_count": null,
   "metadata": {
    "collapsed": true
   },
   "outputs": [],
   "source": []
  }
 ],
 "metadata": {
  "kernelspec": {
   "display_name": "Python 3",
   "language": "python",
   "name": "python3"
  },
  "language_info": {
   "codemirror_mode": {
    "name": "ipython",
    "version": 3
   },
   "file_extension": ".py",
   "mimetype": "text/x-python",
   "name": "python",
   "nbconvert_exporter": "python",
   "pygments_lexer": "ipython3",
   "version": "3.7.3"
  }
 },
 "nbformat": 4,
 "nbformat_minor": 2
}
