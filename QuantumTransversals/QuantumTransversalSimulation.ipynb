{
 "cells": [
  {
   "cell_type": "code",
   "execution_count": 1,
   "metadata": {
    "scrolled": true
   },
   "outputs": [
    {
     "name": "stderr",
     "output_type": "stream",
     "text": [
      "C:\\Users\\Chams\\Anaconda2\\envs\\hackathon\\lib\\site-packages\\qiskit\\__init__.py:67: DeprecationWarning: Using Qiskit with Python 3.6 is deprecated as of the 0.17.0 release. Support for running Qiskit with Python 3.6 will be removed in a future release.\n",
      "  \"future release.\", DeprecationWarning)\n"
     ]
    }
   ],
   "source": [
    "import numpy as np\n",
    "from itertools import *\n",
    "from sympy.combinatorics.graycode import GrayCode\n",
    "from qiskit import QuantumRegister, QuantumCircuit, ClassicalRegister, execute, Aer\n",
    "from qiskit.tools.visualization import circuit_drawer"
   ]
  },
  {
   "cell_type": "markdown",
   "metadata": {},
   "source": [
    "# Generating partition of G\n",
    "The following functions generate the partition into a maximal collection of invariant subsets"
   ]
  },
  {
   "cell_type": "code",
   "execution_count": 2,
   "metadata": {
    "scrolled": true
   },
   "outputs": [],
   "source": [
    "def fullSymDecomp(n,start,end):\n",
    "    ''' Returns dictionary with FULLY symmetric group G partition (decimal values) into maximal subsets\n",
    "        n: total number of qubits\n",
    "        start: position of the first element of the fully symmetric group (starting from 0)\n",
    "        end: position of the last element of the fully symmetric group\n",
    "    '''\n",
    "    Gpart = {}\n",
    "    for i in range(end-start+1):\n",
    "        Gpart[i] = []\n",
    "        for comb in list(combinations(range(end-start),i)):\n",
    "            cval = 0\n",
    "            for el in comb:\n",
    "                cval += 2**(n-1-(el+start))\n",
    "            Gpart[i].append(cval)\n",
    "    return Gpart\n",
    "\n",
    "def combine(sys):\n",
    "    ''' Return dictionary with G partition (decimal values) into maximal subsets by combining the fully Symmetric blocks\n",
    "        sys: list with the sizes of the permutation sub-groups '''\n",
    "    start = 0\n",
    "    n = sum(sys)\n",
    "    Gpart = fullSymDecomp(n,0,sys[0])\n",
    "    if len(sys) > 1:\n",
    "        start = sys[0]\n",
    "        for gsize in sys[1:]:\n",
    "            end = start+gsize\n",
    "            oldGpart = Gpart\n",
    "            Gpart = fullSymDecomp(n,start,end)\n",
    "            newGpart = {}\n",
    "            count = 0\n",
    "            for oldkey in oldGpart:\n",
    "                for key in Gpart:\n",
    "                    newGpart[count] = []\n",
    "                    for el in Gpart[key]:\n",
    "                        for oldel in oldGpart[oldkey]:\n",
    "                            newGpart[count].append(el+oldel)\n",
    "                    count += 1\n",
    "            start += gsize\n",
    "            Gpart = newGpart\n",
    "    return Gpart\n",
    "\n",
    "def convertGToBinary(Gpart,n):\n",
    "    ''' Convert the decimal indices used to construct the subsets into binary arrays\n",
    "        n: total number of qubits '''\n",
    "    binGpart = {k: [(\"{0:0\"+str(n)+\"b}\").format(el) for el in v] for k, v in Gpart.items()}\n",
    "    return binGpart\n",
    "\n",
    "def verifyPermutation(sys,pi):\n",
    "    start = 0\n",
    "    for i in range(len(sys)):\n",
    "        expsum,actsum = 0,0\n",
    "        for j in range(start,start+sys[i]):\n",
    "            expsum += j+1\n",
    "            actsum += int(pi[j])\n",
    "        if expsum != actsum:\n",
    "            raise TypeError('Your input permutation does not belong to the defined group')\n",
    "        start += sys[i]"
   ]
  },
  {
   "cell_type": "markdown",
   "metadata": {},
   "source": [
    "# Angles for the controlled rotations\n",
    "The definition of the angles for the initial and controlled rotations used in the quantum circuit to generate the transversal"
   ]
  },
  {
   "cell_type": "code",
   "execution_count": 3,
   "metadata": {
    "scrolled": true
   },
   "outputs": [],
   "source": [
    "def alpha1(T,n):\n",
    "    ''' Calculation of initial rotation angle\n",
    "        INPUT T: list with the indices (converted to decimal) of the elements in the transversal\n",
    "              n: total number of qubits in current fully symmetric block of the circuit\n",
    "        OUTPUT: rotation angle \\alpha_1\n",
    "    '''\n",
    "    sum1,sum2 = 0,0\n",
    "    for el in T:\n",
    "        if el >= 2**(n-1): sum1 += 1 # as we work with a uniform superposition, the denominators of the coefficents cancel out,\n",
    "                                     #   so just +|1|^2 = +1\n",
    "        else: sum2 += 1\n",
    "    if sum2 == 0:\n",
    "        if sum1 == 0:\n",
    "            raise ZeroDivisionError('Found: 0/0')\n",
    "        else: return np.pi/2\n",
    "    else:\n",
    "        return np.arctan(np.sqrt(sum1/sum2))\n",
    "\n",
    "def ControlledAlpha(T,n,j,control):\n",
    "    ''' Calculation of controlled \\alpha_j\n",
    "        INPUT T: list of elements of the transversal\n",
    "              n: total number of qubits in current fully symmetric block of the circuit\n",
    "              j: target qubit index (starting from 0 up to n-1, reading the arrays from left to right)\n",
    "              control: control qubits state in decimal form (calculated for the full qubit array,\n",
    "                       assuming all the rest are zeros, e.g. '01XX' -> '0100' -> control = 4)\n",
    "    '''\n",
    "    sum1,sum2 = 0,0\n",
    "    for el in T:\n",
    "        if el >= control and el < control + 2**(n-j):\n",
    "            if (el-control) >= 2**(n-j-1): sum1 += 1\n",
    "            else: sum2 += 1\n",
    "    if sum2 == 0:\n",
    "        if sum1 == 0:\n",
    "            raise ZeroDivisionError('Found: 0/0') # as we showed, this should never happen\n",
    "        else: return np.pi/2\n",
    "    else:\n",
    "        return np.arctan(np.sqrt(sum1/sum2))"
   ]
  },
  {
   "cell_type": "markdown",
   "metadata": {},
   "source": [
    "# Quantum subroutines\n",
    "+ Controlled-n Ry gate implementation\n",
    "+ convert a control from mix of zeros and ones to full ones, or unconvert full ones to desired control"
   ]
  },
  {
   "cell_type": "code",
   "execution_count": 4,
   "metadata": {
    "scrolled": true
   },
   "outputs": [],
   "source": [
    "def nControlledRy(start,target,theta,q,circ):\n",
    "    ''' Adds to the quantum circuit a rotation around 'y' gate controlled by any number of qubits, i.e. the rotation\n",
    "            is performed if all the control qubits are 1. The control qubits are defined in block, e.g. \"from qubit0 to qubit4\" \n",
    "        INPUT start: first qubit used as control\n",
    "              target: qubit over which the Ry gate is applied (therefore, the control is from qubit 'start' to 'target-1')\n",
    "              theta: desried angle of rotation (in radians)\n",
    "              q: quantum register with circuit's qubits\n",
    "              circ: original circuit in where the nC-Ry gate is implemented\n",
    "        OUTPUT: new circuit with the nC-Ry(theta) gate added\n",
    "    '''\n",
    "    theta = theta/2**(target-start+1-3) # redefine theta adapted for the circuit (see report)\n",
    "    a = GrayCode(target-start)\n",
    "    gray = list(a.generate_gray(start='0'*(target-start-1)+'1')) # gray code starting at '00..01' instead of '10..00'\n",
    "                                                                 #  -> will read them from right to left\n",
    "    ## ------------------------\n",
    "    ## Implementing the algorithm to generate a controlled-n following a gray code as explained in the report\n",
    "    ## ------------------------\n",
    "    prevel = gray[0]\n",
    "    lm = start\n",
    "    parity = 1\n",
    "    circ.cu3(parity*theta,0,0,control_qubit=q[lm],target_qubit=q[target])\n",
    "    for el in gray[1:]:\n",
    "        parity *= -1\n",
    "        val = int(el,2) - int(prevel,2)\n",
    "        ind = int(np.log2(abs(val)))+start\n",
    "        if ind > lm:\n",
    "            lm = ind\n",
    "            circ.cx(control_qubit=q[ind-1],target_qubit=q[ind])\n",
    "        else:\n",
    "            circ.cx(control_qubit=q[ind],target_qubit=q[lm])\n",
    "        circ.cu3(parity*theta,0,0,control_qubit=q[lm],target_qubit=q[target])\n",
    "        prevel = el\n",
    "    return circ\n",
    "\n",
    "def AdjustControl(control,n,start,target,q,circ):\n",
    "    ''' Apply X gates (NOT) to the control qubits to convert them to a full ones control (and the opposite process as well)\n",
    "        INPUT control: decimal value of the desired control obtained as 'CTRLXXXX' -> 'CTRL0000' -> bin-to-dec('CTRL0000')\n",
    "              n: total number of qubits in current fully symmetric block of the circuit\n",
    "              start: first qubit used as control\n",
    "              target: qubit over which the Ry gate is applied\n",
    "              q: quantum register with circuit's qubits\n",
    "              circ: original circuit in where the nC-Ry gate is implemented\n",
    "        OUTPUT new circuit with the adjusted control\n",
    "    '''\n",
    "    ctr = (\"{0:0\"+str(n)+\"b}\").format(control)\n",
    "    for i in range(target-start):\n",
    "        if int(ctr[i]) == 0:\n",
    "            circ.x(q[i+start])\n",
    "    return circ"
   ]
  },
  {
   "cell_type": "markdown",
   "metadata": {},
   "source": [
    "# Transversal quantum generator for the full symmetric group\n",
    "The following function puts all together to output a circuit that generates a quantum transversal in uniform superposition"
   ]
  },
  {
   "cell_type": "code",
   "execution_count": 5,
   "metadata": {
    "scrolled": true
   },
   "outputs": [],
   "source": [
    "def FullSymQSuperposition(T,n,start,q,circ):\n",
    "    ''' Circuit generator to create a quantum transversal for the FULLY symmetric group\n",
    "        INPUT T: on demand fully symmetric group transversal\n",
    "              n: total number of qubits in current fully symmetric block of the circuit\n",
    "              start: first qubit of the fully symmetric block\n",
    "              q: quantum register with circuit's qubits\n",
    "              circ: original circuit in where the nC-Ry gate is implemented\n",
    "        OUTPUT quantum circuit generating an on-demand fully symmetric group transversal '''\n",
    "    for target in range(start,start+n):\n",
    "        if target == start:\n",
    "            circ.u3(alpha1(T,n)*2,0,0,q[start])\n",
    "            circ.z(q[start])\n",
    "        else:\n",
    "            for ctl in range(2**(target-start)):\n",
    "                states = [int(v) for v in list((\"{0:0\"+str(target-start)+\"b}\").format(ctl))]\n",
    "                control = int((\"{0:0\"+str(target-start)+\"b}\").format(ctl) + '0'*(n-target+start),2) # calculate control's decimal\n",
    "                                                                                                    # value within subblock\n",
    "                for el in T:\n",
    "                    if el >= control and el < control + 2**(n-target+start): # checking whether T element contains control array\n",
    "                        theta = ControlledAlpha(T,n,target-start,control)\n",
    "                        circ = AdjustControl(control,n,start,target,q,circ)\n",
    "                        circ = nControlledRy(start,target,theta,q,circ)\n",
    "                        circ = AdjustControl(control,n,start,target,q,circ)\n",
    "                        break\n",
    "            circ.z(q[target]) # convert Ry rotation into the desired form [[cos\\th sin\\th],[sin\\th -cos\\th]]\n",
    "    return circ"
   ]
  },
  {
   "cell_type": "markdown",
   "metadata": {},
   "source": [
    "# Interactive solver\n",
    "+ Introduce your symmetry group. If composed, separate blocks with 'x'. e.g. 3 for S3, and 2x1 for S2xS1\n",
    "+ Check whether you want to input a permutation (permuteT) or on-demand transversal (onDemandT) and input the corresponding information\n",
    "+ Choose the number of shots for the circuit simulation\n",
    "+ Choose the file name (or path/filename) for your output circuits (in '.tex' and '.png' format)\n",
    "\n",
    "(Some errors are raised by the program if some of the inputs are wrong in some way. In case of facing such error, please skip the traceback part and go directly to the end where you will see: TypeError: \"description of what went wrong\")\n",
    "\n",
    "OUTPUT:\n",
    "+ Transversal and eventually the permuted transversal\n",
    "+ QASM simulations results given by the number of measurements for each superimposed state\n",
    "+ Result verifications\n",
    "+ Drawing of the circuit exported in .png and .tex format"
   ]
  },
  {
   "cell_type": "code",
   "execution_count": 6,
   "metadata": {
    "scrolled": false
   },
   "outputs": [
    {
     "data": {
      "application/vnd.jupyter.widget-view+json": {
       "model_id": "8aee0d6c40644a1eaec2cdda727c1c1f",
       "version_major": 2,
       "version_minor": 0
      },
      "text/plain": [
       "interactive(children=(Text(value='2x1', description='symgroup'), Output()), _dom_classes=('widget-interact',))"
      ]
     },
     "metadata": {},
     "output_type": "display_data"
    },
    {
     "data": {
      "application/vnd.jupyter.widget-view+json": {
       "model_id": "78d836d02ee745d19715406174afbab9",
       "version_major": 2,
       "version_minor": 0
      },
      "text/plain": [
       "interactive(children=(Checkbox(value=False, description='permuteT'), Output()), _dom_classes=('widget-interact…"
      ]
     },
     "metadata": {},
     "output_type": "display_data"
    },
    {
     "data": {
      "application/vnd.jupyter.widget-view+json": {
       "model_id": "e00d943fdec54549a7676eccf428fc04",
       "version_major": 2,
       "version_minor": 0
      },
      "text/plain": [
       "interactive(children=(Text(value='123', description='T_permutation'), Output()), _dom_classes=('widget-interac…"
      ]
     },
     "metadata": {},
     "output_type": "display_data"
    },
    {
     "data": {
      "application/vnd.jupyter.widget-view+json": {
       "model_id": "6d6fbdf9d07d45219b09c43ec9eb2449",
       "version_major": 2,
       "version_minor": 0
      },
      "text/plain": [
       "interactive(children=(Checkbox(value=False, description='onDemandT'), Output()), _dom_classes=('widget-interac…"
      ]
     },
     "metadata": {},
     "output_type": "display_data"
    },
    {
     "data": {
      "application/vnd.jupyter.widget-view+json": {
       "model_id": "defb2b4a45414b8e90100876b7712f03",
       "version_major": 2,
       "version_minor": 0
      },
      "text/plain": [
       "interactive(children=(Text(value='000,001,011,111', description='onDemandT'), Output()), _dom_classes=('widget…"
      ]
     },
     "metadata": {},
     "output_type": "display_data"
    },
    {
     "data": {
      "application/vnd.jupyter.widget-view+json": {
       "model_id": "c9e9a61d582e4ca78f3f3b50375f84a8",
       "version_major": 2,
       "version_minor": 0
      },
      "text/plain": [
       "interactive(children=(Text(value='1024', description='NoOfShots'), Output()), _dom_classes=('widget-interact',…"
      ]
     },
     "metadata": {},
     "output_type": "display_data"
    },
    {
     "data": {
      "application/vnd.jupyter.widget-view+json": {
       "model_id": "5c68272b6caf4fc586062ac8112e475d",
       "version_major": 2,
       "version_minor": 0
      },
      "text/plain": [
       "interactive(children=(Text(value='output', description='path_filename'), Output()), _dom_classes=('widget-inte…"
      ]
     },
     "metadata": {},
     "output_type": "display_data"
    },
    {
     "data": {
      "application/vnd.jupyter.widget-view+json": {
       "model_id": "553d863b83034a49a291d72c9292a261",
       "version_major": 2,
       "version_minor": 0
      },
      "text/plain": [
       "Button(description='Run', style=ButtonStyle())"
      ]
     },
     "metadata": {},
     "output_type": "display_data"
    },
    {
     "data": {
      "application/vnd.jupyter.widget-view+json": {
       "model_id": "2f1e89046bdb4078b8ef085a7fa1342a",
       "version_major": 2,
       "version_minor": 0
      },
      "text/plain": [
       "Output()"
      ]
     },
     "metadata": {},
     "output_type": "display_data"
    }
   ],
   "source": [
    "from ipywidgets import widgets\n",
    "from IPython.display import display,clear_output\n",
    "\n",
    "class quantumTransversal(object):\n",
    "    def __init__(self):\n",
    "        # defaults\n",
    "        self.permT = False\n",
    "        self.ondemand = False\n",
    "        self.sys = [3]\n",
    "        self.n = sum(self.sys)\n",
    "        self.pi = '123'\n",
    "        self.T,self.odT,self.pT = [],[],[]\n",
    "        self.nshots = 1024\n",
    "        self.filename = 'output'\n",
    "    def defineSys(self,symgroup):\n",
    "        sys = []\n",
    "        for el in symgroup.split('x'):\n",
    "            if len(el) > 0:\n",
    "                sys.append(int(el))\n",
    "        self.sys = sys\n",
    "        self.n = sum(sys)\n",
    "    def permuteT(self,permuteT):\n",
    "        self.permT = permuteT\n",
    "    def isOnDemand(self,onDemandT):\n",
    "        self.ondemand = onDemandT\n",
    "    def onDemandT(self,onDemandT):\n",
    "        odT = []\n",
    "        for el in onDemandT.split(','):\n",
    "            if len(el) > 0: odT.append(int(el,2))\n",
    "        self.odT = odT\n",
    "    def permutation(self,T_permutation):\n",
    "        if type(T_permutation) == str:\n",
    "            self.pi = T_permutation\n",
    "        else: raise TypeError(\"Wrong input format. Please enter a length 'n' string, such as '132'\")\n",
    "    def shotN(self,NoOfShots):\n",
    "        if len(NoOfShots) > 0:\n",
    "            self.nshots = int(NoOfShots)\n",
    "    def setfilename(self,path_filename):\n",
    "        self.filename = path_filename\n",
    "        \n",
    "    def buildT(self):\n",
    "        G = combine(self.sys)\n",
    "        print('G partition into maximal collection of subsets:')\n",
    "        print(convertGToBinary(G,self.n))\n",
    "        print('')\n",
    "        T = []\n",
    "        for key in G:\n",
    "            T.append(G[key][0])\n",
    "        self.T = T\n",
    "    def applyPermutation(self):\n",
    "        if len(self.pi) != self.n:\n",
    "            raise TypeError('Wrong permutator length. Please reenter a length \"n\" string for the permutator')\n",
    "        newT = []\n",
    "        verifyPermutation(self.sys,self.pi)\n",
    "        for el in self.T:\n",
    "            oldt = (\"{0:0\"+str(self.n)+\"b}\").format(el)\n",
    "            newt = ''\n",
    "            for i in self.pi:\n",
    "                newt += str(oldt[int(i)-1])\n",
    "            newT.append(int(newt,2))\n",
    "        self.pT = newT\n",
    "        \n",
    "    def run(self,b):\n",
    "        with out:\n",
    "            clear_output()\n",
    "            qT.buildT()\n",
    "            if self.ondemand: T = self.odT\n",
    "            else: T = self.T\n",
    "            print('Transversal')\n",
    "            print([(\"{0:0\"+str(self.n)+\"b}\").format(el) for el in T])\n",
    "            print('')\n",
    "            if self.permT:\n",
    "                qT.applyPermutation()\n",
    "                print('Permuted Transversal')\n",
    "                print([(\"{0:0\"+str(self.n)+\"b}\").format(el) for el in self.pT])\n",
    "                print('')\n",
    "                T = self.pT\n",
    "            \n",
    "            q = QuantumRegister(self.n,'qubit')\n",
    "            c = ClassicalRegister(self.n,'bit')\n",
    "            circ = QuantumCircuit(q,c)\n",
    "            \n",
    "            if not self.ondemand:\n",
    "                start = 0\n",
    "                for i in range(len(self.sys)):\n",
    "                    ns = self.sys[i]\n",
    "                    Ts = [int((\"{0:0\"+str(self.n)+\"b}\").format(t)[start:start+ns],2) for t in T]\n",
    "                    circ = FullSymQSuperposition(Ts,ns,start,q,circ)\n",
    "                    start += ns\n",
    "            else:\n",
    "                circ = FullSymQSuperposition(T,self.n,0,q,circ)\n",
    "            \n",
    "            print('Generating quantum circuit...')\n",
    "            print('')\n",
    "            print('QASM simulation results out of a total of ' + str(self.nshots) + ' shots')\n",
    "            circ.measure(q,c)\n",
    "            # Execute the circuit\n",
    "            job = execute(circ, backend = Aer.get_backend('qasm_simulator'), shots=self.nshots)\n",
    "            result = job.result()\n",
    "            reversedOutput = {key[::-1]:result.get_counts(circ)[key] for key in result.get_counts(circ)}\n",
    "            sortedOutput = {key:reversedOutput[key] for key in sorted(reversedOutput)}\n",
    "            print(sortedOutput)\n",
    "            print('')\n",
    "            \n",
    "            print('Testing results...')\n",
    "            fail,count = 0,0\n",
    "            for key in sortedOutput:\n",
    "                count += 1\n",
    "                if int(key,2) not in T:\n",
    "                    print('Wrong output state :(')\n",
    "                    fail = 1\n",
    "                    break\n",
    "            if fail == 0:\n",
    "                if count != len(T):\n",
    "                    print('Wrong output state :(')\n",
    "                else:\n",
    "                    print('Perfect match of superimposed states!')\n",
    "\n",
    "            avgcount = self.nshots/len(T)\n",
    "            std = 0\n",
    "            for key in sortedOutput:\n",
    "                std += abs(sortedOutput[key]-avgcount)**2\n",
    "            std = (std/(len(T)-1))**0.5/self.nshots\n",
    "            \n",
    "            print('The relative standard deviation of the measurement results is ... ' + str(round(len(T)*std*100)) + ' % ,')\n",
    "            print('while the expected value for a uniform distribution is .......... ' + \\\n",
    "                  str(round(len(T)*((len(T)-1)/self.nshots/len(T)**2)**0.5*100))+ ' %')\n",
    "            \n",
    "            print('')\n",
    "            print('Drawing the circuit...')\n",
    "            circuit_drawer(circ,output='mpl',filename=self.filename)\n",
    "            circuit_drawer(circ,output='latex_source',filename=self.filename+'.tex')\n",
    "            print('A .png and latex source file with your circuit have been generated under your specified path/filename')\n",
    "\n",
    "qT = quantumTransversal()\n",
    "widgets.interact(qT.defineSys,symgroup='2x1')\n",
    "widgets.interact(qT.permuteT,permuteT=False)\n",
    "widgets.interact(qT.permutation,T_permutation='123')\n",
    "widgets.interact(qT.isOnDemand,onDemandT=False)\n",
    "widgets.interact(qT.onDemandT,onDemandT='000,001,011,111')\n",
    "widgets.interact(qT.shotN,NoOfShots='1024')\n",
    "widgets.interact(qT.setfilename,path_filename='output')\n",
    "\n",
    "button = widgets.Button(description=\"Run\")\n",
    "display(button)\n",
    "\n",
    "out = widgets.Output()\n",
    "display(out)\n",
    "\n",
    "button.on_click(qT.run)"
   ]
  },
  {
   "cell_type": "code",
   "execution_count": null,
   "metadata": {},
   "outputs": [],
   "source": []
  }
 ],
 "metadata": {
  "kernelspec": {
   "display_name": "Python 3",
   "language": "python",
   "name": "python3"
  },
  "language_info": {
   "codemirror_mode": {
    "name": "ipython",
    "version": 3
   },
   "file_extension": ".py",
   "mimetype": "text/x-python",
   "name": "python",
   "nbconvert_exporter": "python",
   "pygments_lexer": "ipython3",
   "version": "3.6.13"
  }
 },
 "nbformat": 4,
 "nbformat_minor": 2
}